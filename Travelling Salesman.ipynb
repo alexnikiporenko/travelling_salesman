{
 "cells": [
  {
   "cell_type": "code",
   "execution_count": 16,
   "metadata": {},
   "outputs": [
    {
     "name": "stdout",
     "output_type": "stream",
     "text": [
      "Initial Greedy Path: [0, 26, 18, 8, 16, 13, 32, 9, 3, 21, 39, 6, 10, 2, 23, 27, 11, 17, 38, 7, 14, 12, 25, 5, 1, 22, 35, 48, 33, 28, 37, 4, 36, 45, 31, 29, 19, 44, 42, 41, 15, 24, 30, 40, 46, 49, 43, 20, 47, 34]\n",
      "Initial Greedy Path distance: 82\n",
      "Initial Random Path: [32, 33, 35, 46, 41, 10, 17, 4, 14, 25, 45, 8, 7, 21, 30, 36, 29, 31, 28, 22, 6, 20, 27, 47, 3, 26, 0, 18, 11, 42, 39, 40, 24, 16, 13, 48, 34, 23, 1, 44, 49, 5, 9, 15, 12, 19, 2, 38, 43, 37]\n",
      "Initial Random Path distance: 254\n"
     ]
    }
   ],
   "source": [
    "import random\n",
    "from matplotlib import pyplot as plt \n",
    "\n",
    "# converting the input matrix into a 2d list\n",
    "with open(\"TSP Matrix.txt\") as input:\n",
    "    distances = [[int(d) for d in line.split(\",\")] for line in input.read().splitlines()]\n",
    "\n",
    "# function to calculate the length of the path\n",
    "def calculate_distance(path):\n",
    "    l = len(path)\n",
    "    total = 0\n",
    "    for i in range(l):\n",
    "        total += distances[path[i]][path[(i+1)%l]]\n",
    "    return total\n",
    "\n",
    "# function generating the initial path using greedy algorithm\n",
    "# always choosing the closest unvisited node\n",
    "def create_initial_greedy(matrix, start):\n",
    "    path = [start]\n",
    "    while len(path) < len(matrix):\n",
    "        current = path[-1]\n",
    "        indices = [ind for ind in range(len(matrix[current])) if ind not in path]\n",
    "        smallest = float(\"inf\")\n",
    "        next = -1\n",
    "        for ind in indices:\n",
    "            if matrix[current][ind] < smallest:\n",
    "                smallest = matrix[current][ind]\n",
    "                next = ind\n",
    "        path.append(next)\n",
    "    return path\n",
    "\n",
    "# function generating a random initial path\n",
    "def create_initial_random(matrix):\n",
    "    indices = list(range(len(matrix)))\n",
    "    random.shuffle(indices)\n",
    "    return indices\n",
    "\n",
    "\n",
    "initial_greedy = create_initial_greedy(distances, 0)\n",
    "initial_random = create_initial_random(distances)\n",
    "\n",
    "print(\"Initial Greedy Path:\", initial_greedy)\n",
    "print(\"Initial Greedy Path distance:\", calculate_distance(initial_greedy))\n",
    "\n",
    "print(\"Initial Random Path:\", initial_random)\n",
    "print(\"Initial Random Path distance:\", calculate_distance(initial_random))"
   ]
  },
  {
   "cell_type": "code",
   "execution_count": 17,
   "metadata": {},
   "outputs": [
    {
     "name": "stdout",
     "output_type": "stream",
     "text": [
      "Initial distance =  254\n",
      "Final distance =  91\n"
     ]
    },
    {
     "data": {
      "image/png": "[encoded data removed]",
      "text/plain": [
       "<Figure size 432x288 with 1 Axes>"
      ]
     },
     "metadata": {
      "needs_background": "light"
     },
     "output_type": "display_data"
    },
    {
     "name": "stdout",
     "output_type": "stream",
     "text": [
      "Initial distance =  82\n",
      "Final distance =  73\n"
     ]
    },
    {
     "data": {
      "image/png": "[encoded data removed]",
      "text/plain": [
       "<Figure size 432x288 with 1 Axes>"
      ]
     },
     "metadata": {
      "needs_background": "light"
     },
     "output_type": "display_data"
    }
   ],
   "source": [
    "# function that swaps two random nodes\n",
    "def hill_climbing_random(path):\n",
    "    p = list(path)\n",
    "    index1 = random.randrange(0, len(p))\n",
    "    index2 = index1\n",
    "    while index2 == index1:\n",
    "        index2 = random.randrange(0, len(p))\n",
    "    temp = p[index2]\n",
    "    p[index2] = p[index1]\n",
    "    p[index1] = temp\n",
    "    return p\n",
    "\n",
    "# function that swaps a random node with its right neighbour\n",
    "def hill_climbing_neighbour(path):\n",
    "    p = list(path)\n",
    "    index1 = random.randrange(0, len(p))\n",
    "    index2 = (index1 + 1)%len(p)\n",
    "    temp = p[index2]\n",
    "    p[index2] = p[index1]\n",
    "    p[index1] = temp\n",
    "    return p\n",
    "    \n",
    "def run(path):\n",
    "    p = list(path)\n",
    "    print(\"Initial distance = \", calculate_distance(p))\n",
    "    no_improvement_for = 0\n",
    "    ds = []\n",
    "    while no_improvement_for < 1000:\n",
    "        current_distance = calculate_distance(p)\n",
    "        ds.append(current_distance)\n",
    "        new_p = hill_climbing_random(p)\n",
    "        if calculate_distance(new_p) < current_distance:\n",
    "            p = new_p\n",
    "            no_improvement_for = 0\n",
    "        else:\n",
    "            no_improvement_for += 1\n",
    "    print(\"Final distance = \", ds[-1])\n",
    "    plt.plot(ds)\n",
    "    plt.show()\n",
    "\n",
    "run(initial_random)\n",
    "run(initial_greedy)"
   ]
  }
 ],
 "metadata": {
  "interpreter": {
   "hash": "e245b6e8656557d201be73fbc1d00f8d35efdf4ab03c4356d8952ce09f2d82d2"
  },
  "kernelspec": {
   "display_name": "Python 3.10.1 64-bit",
   "language": "python",
   "name": "python3"
  },
  "language_info": {
   "codemirror_mode": {
    "name": "ipython",
    "version": 3
   },
   "file_extension": ".py",
   "mimetype": "text/x-python",
   "name": "python",
   "nbconvert_exporter": "python",
   "pygments_lexer": "ipython3",
   "version": "3.10.1"
  },
  "orig_nbformat": 4
 },
 "nbformat": 4,
 "nbformat_minor": 2
}
